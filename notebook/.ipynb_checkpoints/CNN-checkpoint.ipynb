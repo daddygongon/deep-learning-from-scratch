{
 "cells": [
  {
   "cell_type": "markdown",
   "metadata": {
    "toc": "true"
   },
   "source": [
    "# Table of Contents\n",
    " <p><div class=\"lev1 toc-item\"><a href=\"#CNN(Convolutional-Neural-Network)\" data-toc-modified-id=\"CNN(Convolutional-Neural-Network)-1\"><span class=\"toc-item-num\">1&nbsp;&nbsp;</span>CNN(Convolutional Neural Network)</a></div>"
   ]
  },
  {
   "cell_type": "markdown",
   "metadata": {},
   "source": [
    "# CNN(Convolutional Neural Network)\n",
    "畳み込みニューラルネットワーク\n",
    "\n",
    "素のnnは，affine layerとReLU layerで構成されるが．．．deep learningで使われるnnには，\n",
    "* 畳み込みレイヤー\n",
    "* poolingレイヤー\n",
    "\n",
    "が存在する．"
   ]
  },
  {
   "cell_type": "markdown",
   "metadata": {},
   "source": [
    "畳み込みレイヤーでのfilterによって，学習パラメータに意味が出てくるようだ．filterによってエッジを強調したり，blobと呼ばれる塊の領域を抽出したりして学習が進んでいく．\n",
    "\n",
    "一方，poolingレイヤーの意味は，誤りをぼやかすことなんだろうか．．．はっきりとはわかってないような印象を受ける．\n",
    "\n",
    "さらにdeep learningの意義となるとますます怪しいな．でも，そのあたりがblack magicと呼んだ理由なのだろうな．信じたり，解釈したりする必要がなくて，間違いなく進めばいいって．"
   ]
  },
  {
   "cell_type": "markdown",
   "metadata": {
    "collapsed": true
   },
   "source": [
    "![figure](figs/Figure_1.png)\n",
    "\n",
    "![figure](figs/Figure_2.png)\n",
    "\n",
    "![figure](figs/Figure_3.png)"
   ]
  },
  {
   "cell_type": "code",
   "execution_count": null,
   "metadata": {
    "collapsed": true
   },
   "outputs": [],
   "source": []
  },
  {
   "cell_type": "code",
   "execution_count": null,
   "metadata": {
    "collapsed": true
   },
   "outputs": [],
   "source": []
  }
 ],
 "metadata": {
  "kernelspec": {
   "display_name": "Python 3",
   "language": "python",
   "name": "python3"
  },
  "language_info": {
   "codemirror_mode": {
    "name": "ipython",
    "version": 3
   },
   "file_extension": ".py",
   "mimetype": "text/x-python",
   "name": "python",
   "nbconvert_exporter": "python",
   "pygments_lexer": "ipython3",
   "version": "3.6.1"
  },
  "latex_envs": {
   "LaTeX_envs_menu_present": true,
   "autocomplete": true,
   "bibliofile": "biblio.bib",
   "cite_by": "apalike",
   "current_citInitial": 1,
   "eqLabelWithNumbers": true,
   "eqNumInitial": 1,
   "hotkeys": {
    "equation": "Ctrl-E",
    "itemize": "Ctrl-I"
   },
   "labels_anchors": false,
   "latex_user_defs": false,
   "report_style_numbering": false,
   "user_envs_cfg": false
  },
  "toc": {
   "colors": {
    "hover_highlight": "#DAA520",
    "navigate_num": "#000000",
    "navigate_text": "#333333",
    "running_highlight": "#FF0000",
    "selected_highlight": "#FFD700",
    "sidebar_border": "#EEEEEE",
    "wrapper_background": "#FFFFFF"
   },
   "moveMenuLeft": true,
   "nav_menu": {
    "height": "12px",
    "width": "252px"
   },
   "navigate_menu": true,
   "number_sections": true,
   "sideBar": true,
   "threshold": 4,
   "toc_cell": true,
   "toc_section_display": "block",
   "toc_window_display": true,
   "widenNotebook": false
  }
 },
 "nbformat": 4,
 "nbformat_minor": 2
}
