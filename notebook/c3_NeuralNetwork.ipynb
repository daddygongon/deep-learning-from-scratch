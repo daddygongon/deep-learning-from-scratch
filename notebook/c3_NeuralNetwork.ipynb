{
 "cells": [
  {
   "cell_type": "markdown",
   "metadata": {
    "toc": "true"
   },
   "source": [
    "# Table of Contents\n",
    " <p><div class=\"lev1 toc-item\"><a href=\"#ニューラルネットワーク\" data-toc-modified-id=\"ニューラルネットワーク-1\"><span class=\"toc-item-num\">1&nbsp;&nbsp;</span>ニューラルネットワーク</a></div><div class=\"lev2 toc-item\"><a href=\"#活性化関数\" data-toc-modified-id=\"活性化関数-11\"><span class=\"toc-item-num\">1.1&nbsp;&nbsp;</span>活性化関数</a></div><div class=\"lev3 toc-item\"><a href=\"#sigmoid関数\" data-toc-modified-id=\"sigmoid関数-111\"><span class=\"toc-item-num\">1.1.1&nbsp;&nbsp;</span>sigmoid関数</a></div><div class=\"lev3 toc-item\"><a href=\"#sigmoidとstep関数\" data-toc-modified-id=\"sigmoidとstep関数-112\"><span class=\"toc-item-num\">1.1.2&nbsp;&nbsp;</span>sigmoidとstep関数</a></div><div class=\"lev3 toc-item\"><a href=\"#ReLU関数\" data-toc-modified-id=\"ReLU関数-113\"><span class=\"toc-item-num\">1.1.3&nbsp;&nbsp;</span>ReLU関数</a></div><div class=\"lev1 toc-item\"><a href=\"#出力層\" data-toc-modified-id=\"出力層-2\"><span class=\"toc-item-num\">2&nbsp;&nbsp;</span>出力層</a></div><div class=\"lev2 toc-item\"><a href=\"#恒等関数\" data-toc-modified-id=\"恒等関数-21\"><span class=\"toc-item-num\">2.1&nbsp;&nbsp;</span>恒等関数</a></div><div class=\"lev2 toc-item\"><a href=\"#SoftMax関数\" data-toc-modified-id=\"SoftMax関数-22\"><span class=\"toc-item-num\">2.2&nbsp;&nbsp;</span>SoftMax関数</a></div><div class=\"lev2 toc-item\"><a href=\"#手書き数字認識(MNIST)\" data-toc-modified-id=\"手書き数字認識(MNIST)-23\"><span class=\"toc-item-num\">2.3&nbsp;&nbsp;</span>手書き数字認識(MNIST)</a></div><div class=\"lev2 toc-item\"><a href=\"#load_mnist\" data-toc-modified-id=\"load_mnist-24\"><span class=\"toc-item-num\">2.4&nbsp;&nbsp;</span>load_mnist</a></div><div class=\"lev2 toc-item\"><a href=\"#neuralnet_mnist\" data-toc-modified-id=\"neuralnet_mnist-25\"><span class=\"toc-item-num\">2.5&nbsp;&nbsp;</span>neuralnet_mnist</a></div>"
   ]
  },
  {
   "cell_type": "markdown",
   "metadata": {},
   "source": [
    "# ニューラルネットワーク\n",
    "\n",
    "* 入力層，出力層，中間層\n",
    "\n",
    "* 多次元配列，dot\n",
    "* 恒等関数とソフトマックス(softmax)関数\n",
    "* 前処理(pre-processing)，正規化(normalization)\n",
    "* バッチ処理\n",
    "\n",
    "![バイアス，活性化関数の明示的表記](figs/figs.003.jpeg)"
   ]
  },
  {
   "cell_type": "markdown",
   "metadata": {},
   "source": [
    "## 活性化関数\n",
    "入力信号の総和を出力信号に変換する関数を一般に**活性化関数(activation function)**と呼ばれる．活性化関数は入力信号の総和がどのように活性化するか，発火するかを決定する．\n",
    "$$\n",
    "\\left\\{\n",
    "\\begin{array}{rl}\n",
    "a &= b+w_1x_1+w_2x_2 \\\\\n",
    "y &= h(x)\n",
    "\\end{array}\n",
    "\\right.\n",
    "$$\n",
    "\n",
    "* ステップ関数\n",
    "* シグモイド関数\n",
    "* 非線形関数\n",
    "  * ReLU関数(Rectified Linear Unit)\n",
    "\n",
    "などがある．\n"
   ]
  },
  {
   "cell_type": "markdown",
   "metadata": {
    "heading_collapsed": true
   },
   "source": [
    "### sigmoid関数"
   ]
  },
  {
   "cell_type": "code",
   "execution_count": 1,
   "metadata": {
    "hidden": true
   },
   "outputs": [
    {
     "data": {
      "image/png": "[encoded data removed]",
      "text/plain": [
       "<matplotlib.figure.Figure at 0x104d16080>"
      ]
     },
     "metadata": {},
     "output_type": "display_data"
    }
   ],
   "source": [
    "# coding: utf-8\n",
    "import numpy as np\n",
    "import matplotlib.pylab as plt\n",
    "\n",
    "\n",
    "def sigmoid(x):\n",
    "    return 1 / (1 + np.exp(-x))    \n",
    "\n",
    "X = np.arange(-5.0, 5.0, 0.1)\n",
    "Y = sigmoid(X)\n",
    "plt.plot(X, Y)\n",
    "plt.ylim(-0.1, 1.1)\n",
    "plt.show()"
   ]
  },
  {
   "cell_type": "markdown",
   "metadata": {
    "heading_collapsed": true
   },
   "source": [
    "### sigmoidとstep関数"
   ]
  },
  {
   "cell_type": "code",
   "execution_count": 2,
   "metadata": {
    "hidden": true
   },
   "outputs": [
    {
     "data": {
      "image/png": "[encoded data removed]",
      "text/plain": [
       "<matplotlib.figure.Figure at 0x10b09f9e8>"
      ]
     },
     "metadata": {},
     "output_type": "display_data"
    }
   ],
   "source": [
    "# coding: utf-8\n",
    "import numpy as np\n",
    "import matplotlib.pylab as plt\n",
    "\n",
    "\n",
    "def sigmoid(x):\n",
    "    return 1 / (1 + np.exp(-x))    \n",
    "\n",
    "\n",
    "def step_function(x):\n",
    "    return np.array(x > 0, dtype=np.int)\n",
    "\n",
    "x = np.arange(-5.0, 5.0, 0.1)\n",
    "y1 = sigmoid(x)\n",
    "y2 = step_function(x)\n",
    "\n",
    "plt.plot(x, y1)\n",
    "plt.plot(x, y2, 'k--')\n",
    "plt.ylim(-0.1, 1.1) #図で描画するy軸の範囲を指定\n",
    "plt.show()"
   ]
  },
  {
   "cell_type": "markdown",
   "metadata": {
    "heading_collapsed": true
   },
   "source": [
    "### ReLU関数"
   ]
  },
  {
   "cell_type": "markdown",
   "metadata": {
    "heading_collapsed": true
   },
   "source": [
    "# 出力層"
   ]
  },
  {
   "cell_type": "markdown",
   "metadata": {
    "hidden": true
   },
   "source": [
    "機械学習の問題は**分類問題**と**回帰問題**に分けられる．分類問題は1〜10のクラスに分類する問題．対して，回帰問題は体重を予想するような問題．\n",
    "\n",
    "ニューラルネットワークをどちらに用いるかで出力層の活性化関数が異なってくる．回帰問題では恒等関数を用い，分類問題ではSoftMax関数を用いるのが一般的．"
   ]
  },
  {
   "cell_type": "markdown",
   "metadata": {
    "hidden": true
   },
   "source": [
    "## 恒等関数\n",
    "入力データをそのまま出力データにする．"
   ]
  },
  {
   "cell_type": "markdown",
   "metadata": {
    "heading_collapsed": true,
    "hidden": true
   },
   "source": [
    "## SoftMax関数\n",
    "ソフトマックス関数の定義は以下のとおりです．\n",
    "\n",
    "$$\n",
    "y_k = \\frac{\\exp(a_k)}{\\sum_{i=1}^n \\exp(a_i)}\n",
    "$$\n",
    "\n",
    "なんでexpを用いるかは？　そのままの和でもいいとは思うが．．．overflowをうまく扱うためだろうか？　p.68あたりでは明言されてない．"
   ]
  },
  {
   "cell_type": "markdown",
   "metadata": {
    "hidden": true
   },
   "source": [
    "## 手書き数字認識(MNIST)\n",
    "[mnist](http://yann.lecun.com/exdb/mnist/)によると，nistが提供していたhand writingのDBとしてspecial database 3とspecial database 1というのがあって，SD-3はCensus Bureauの雇用者からSD-1はJunior high schoolの学生からあつめたもので，そこには認識率におおきな差があったのだって．それらを混ぜ合わせた，training setとtest setとして新たに提供されたのが，mixing NIST's datasetsからこの呼び名がついたって．"
   ]
  },
  {
   "cell_type": "code",
   "execution_count": 3,
   "metadata": {
    "hidden": true
   },
   "outputs": [
    {
     "data": {
      "image/png": "[encoded data removed]",
      "text/plain": [
       "<matplotlib.figure.Figure at 0x104d0e518>"
      ]
     },
     "metadata": {},
     "output_type": "display_data"
    }
   ],
   "source": [
    "# coding: utf-8\n",
    "import numpy as np\n",
    "import matplotlib.pylab as plt\n",
    "\n",
    "\n",
    "def relu(x):\n",
    "    return np.maximum(0, x)\n",
    "\n",
    "x = np.arange(-5.0, 5.0, 0.1)\n",
    "y = relu(x)\n",
    "plt.plot(x, y)\n",
    "plt.ylim(-1.0, 5.5)\n",
    "plt.show()"
   ]
  },
  {
   "cell_type": "markdown",
   "metadata": {
    "collapsed": true,
    "hidden": true
   },
   "source": [
    "## load_mnist"
   ]
  },
  {
   "cell_type": "code",
   "execution_count": 2,
   "metadata": {
    "hidden": true
   },
   "outputs": [
    {
     "name": "stdout",
     "output_type": "stream",
     "text": [
      "(60000, 784)\n"
     ]
    }
   ],
   "source": [
    "import sys, os\n",
    "sys.path.append(os.pardir)\n",
    "from dataset.mnist import load_mnist\n",
    "\n",
    "(x_train, t_train), (x_test, t_test) = \\\n",
    "    load_mnist(flatten=True, normalize=False)\n",
    "\n",
    "print(x_train.shape)"
   ]
  },
  {
   "cell_type": "markdown",
   "metadata": {
    "hidden": true
   },
   "source": [
    "## neuralnet_mnist\n",
    "\n",
    "sample_weight.pklをch03からcpしておく必要あり．\n",
    "\n",
    "何をするかをみるため，最後尾の駆動部を変更している．\n",
    "\n",
    "predictがやっていることを見ればいいが，単に行列の積を計算しているだけ．それで予測ができるとさ．だから，中間層を表す行列の要素さえただしく決定できればそれでニューラルネットは終わり！！"
   ]
  },
  {
   "cell_type": "code",
   "execution_count": 11,
   "metadata": {
    "hidden": true
   },
   "outputs": [
    {
     "name": "stdout",
     "output_type": "stream",
     "text": [
      "['0.0001', '0.0000', '0.0007', '0.0013', '0.0000', '0.0000', '0.0000', '0.9971', '0.0000', '0.0008']\n",
      "t:7\n",
      "['0.0048', '0.0011', '0.9443', '0.0143', '0.0000', '0.0067', '0.0275', '0.0000', '0.0013', '0.0000']\n",
      "t:2\n",
      "['0.0000', '0.9890', '0.0043', '0.0018', '0.0001', '0.0008', '0.0005', '0.0023', '0.0012', '0.0001']\n",
      "t:1\n",
      "['0.9941', '0.0000', '0.0016', '0.0002', '0.0000', '0.0034', '0.0004', '0.0002', '0.0000', '0.0000']\n",
      "t:0\n",
      "['0.0002', '0.0000', '0.0029', '0.0000', '0.9548', '0.0005', '0.0020', '0.0055', '0.0014', '0.0326']\n",
      "t:4\n",
      "['0.0000', '0.9885', '0.0017', '0.0022', '0.0001', '0.0003', '0.0000', '0.0048', '0.0019', '0.0004']\n",
      "t:1\n",
      "['0.0000', '0.0000', '0.0000', '0.0001', '0.9746', '0.0087', '0.0006', '0.0007', '0.0053', '0.0099']\n",
      "t:4\n",
      "['0.0000', '0.0018', '0.0001', '0.0057', '0.0198', '0.0024', '0.0000', '0.0066', '0.0137', '0.9499']\n",
      "t:9\n",
      "['0.0019', '0.0000', '0.0058', '0.0000', '0.0338', '0.0074', '0.9500', '0.0000', '0.0010', '0.0001']\n",
      "t:5\n",
      "['0.0000', '0.0000', '0.0001', '0.0001', '0.0382', '0.0002', '0.0000', '0.0389', '0.0041', '0.9183']\n",
      "t:9\n",
      "Accuracy:0.0009\n"
     ]
    }
   ],
   "source": [
    "# coding: utf-8\n",
    "import sys, os\n",
    "sys.path.append(os.pardir)  # 親ディレクトリのファイルをインポートするための設定\n",
    "import numpy as np\n",
    "import pickle\n",
    "from dataset.mnist import load_mnist\n",
    "from common.functions import sigmoid, softmax\n",
    "\n",
    "\n",
    "def get_data():\n",
    "    (x_train, t_train), (x_test, t_test) = load_mnist(normalize=True, flatten=True, one_hot_label=False)\n",
    "    return x_test, t_test\n",
    "\n",
    "\n",
    "def init_network():\n",
    "    with open(\"sample_weight.pkl\", 'rb') as f:\n",
    "        network = pickle.load(f)\n",
    "    return network\n",
    "\n",
    "\n",
    "def predict(network, x):\n",
    "    W1, W2, W3 = network['W1'], network['W2'], network['W3']\n",
    "    b1, b2, b3 = network['b1'], network['b2'], network['b3']\n",
    "\n",
    "    a1 = np.dot(x, W1) + b1\n",
    "    z1 = sigmoid(a1)\n",
    "    a2 = np.dot(z1, W2) + b2\n",
    "    z2 = sigmoid(a2)\n",
    "    a3 = np.dot(z2, W3) + b3\n",
    "    y = softmax(a3)\n",
    "\n",
    "    return y\n",
    "\n",
    "\n",
    "x, t = get_data()\n",
    "network = init_network()\n",
    "accuracy_cnt = 0\n",
    "for i in range(10):\n",
    "    y = predict(network, x[i])\n",
    "    print(['{:.4f}'.format(n) for n in y])\n",
    "    print(\"t:{}\".format(t[i]))\n",
    "\n",
    "    p= np.argmax(y) # 最も確率の高い要素のインデックスを取得\n",
    "    if p == t[i]:\n",
    "        accuracy_cnt += 1\n",
    "\n",
    "print(\"Accuracy:\" + str(float(accuracy_cnt) / len(x)))"
   ]
  },
  {
   "cell_type": "markdown",
   "metadata": {
    "hidden": true
   },
   "source": [
    "実際の駆動コードは次の通り．\n",
    "``` python\n",
    "x, t = get_data()\n",
    "network = init_network()\n",
    "accuracy_cnt = 0\n",
    "for i in range(len(x)):\n",
    "    y = predict(network, x[i])\n",
    "    p= np.argmax(y) # 最も確率の高い要素のインデックスを取得\n",
    "    if p == t[i]:\n",
    "        accuracy_cnt += 1\n",
    "\n",
    "print(\"Accuracy:\" + str(float(accuracy_cnt) / len(x)))\n",
    "```\n",
    "\n"
   ]
  },
  {
   "cell_type": "code",
   "execution_count": null,
   "metadata": {
    "collapsed": true,
    "hidden": true
   },
   "outputs": [],
   "source": []
  }
 ],
 "metadata": {
  "kernelspec": {
   "display_name": "Python 3",
   "language": "python",
   "name": "python3"
  },
  "language_info": {
   "codemirror_mode": {
    "name": "ipython",
    "version": 3
   },
   "file_extension": ".py",
   "mimetype": "text/x-python",
   "name": "python",
   "nbconvert_exporter": "python",
   "pygments_lexer": "ipython3",
   "version": "3.6.1"
  },
  "latex_envs": {
   "LaTeX_envs_menu_present": true,
   "autocomplete": true,
   "bibliofile": "biblio.bib",
   "cite_by": "apalike",
   "current_citInitial": 1,
   "eqLabelWithNumbers": true,
   "eqNumInitial": 1,
   "hotkeys": {
    "equation": "Ctrl-E",
    "itemize": "Ctrl-I"
   },
   "labels_anchors": false,
   "latex_user_defs": false,
   "report_style_numbering": false,
   "user_envs_cfg": false
  },
  "toc": {
   "colors": {
    "hover_highlight": "#DAA520",
    "navigate_num": "#000000",
    "navigate_text": "#333333",
    "running_highlight": "#FF0000",
    "selected_highlight": "#FFD700",
    "sidebar_border": "#EEEEEE",
    "wrapper_background": "#FFFFFF"
   },
   "moveMenuLeft": true,
   "nav_menu": {
    "height": "12px",
    "width": "252px"
   },
   "navigate_menu": true,
   "number_sections": true,
   "sideBar": true,
   "threshold": 4,
   "toc_cell": true,
   "toc_section_display": "block",
   "toc_window_display": true,
   "widenNotebook": false
  }
 },
 "nbformat": 4,
 "nbformat_minor": 2
}
