{
 "cells": [
  {
   "cell_type": "markdown",
   "metadata": {
    "toc": "true"
   },
   "source": [
    "# Table of Contents\n",
    " <p><div class=\"lev1 toc-item\"><a href=\"#逆伝搬(backward-propagation)\" data-toc-modified-id=\"逆伝搬(backward-propagation)-1\"><span class=\"toc-item-num\">1&nbsp;&nbsp;</span>逆伝搬(backward propagation)</a></div><div class=\"lev2 toc-item\"><a href=\"#計算グラフ\" data-toc-modified-id=\"計算グラフ-11\"><span class=\"toc-item-num\">1.1&nbsp;&nbsp;</span>計算グラフ</a></div><div class=\"lev2 toc-item\"><a href=\"#数値微分の結果\" data-toc-modified-id=\"数値微分の結果-12\"><span class=\"toc-item-num\">1.2&nbsp;&nbsp;</span>数値微分の結果</a></div><div class=\"lev2 toc-item\"><a href=\"#逆伝搬による偏微分値\" data-toc-modified-id=\"逆伝搬による偏微分値-13\"><span class=\"toc-item-num\">1.3&nbsp;&nbsp;</span>逆伝搬による偏微分値</a></div><div class=\"lev2 toc-item\"><a href=\"#りんごとオレンジの合わせ技\" data-toc-modified-id=\"りんごとオレンジの合わせ技-14\"><span class=\"toc-item-num\">1.4&nbsp;&nbsp;</span>りんごとオレンジの合わせ技</a></div><div class=\"lev1 toc-item\"><a href=\"#活性化関数レイヤ\" data-toc-modified-id=\"活性化関数レイヤ-2\"><span class=\"toc-item-num\">2&nbsp;&nbsp;</span>活性化関数レイヤ</a></div><div class=\"lev1 toc-item\"><a href=\"#affine/softmaxレイヤ\" data-toc-modified-id=\"affine/softmaxレイヤ-3\"><span class=\"toc-item-num\">3&nbsp;&nbsp;</span>affine/softmaxレイヤ</a></div><div class=\"lev1 toc-item\"><a href=\"#誤差逆伝搬法による学習\" data-toc-modified-id=\"誤差逆伝搬法による学習-4\"><span class=\"toc-item-num\">4&nbsp;&nbsp;</span>誤差逆伝搬法による学習</a></div>"
   ]
  },
  {
   "cell_type": "markdown",
   "metadata": {},
   "source": [
    "# 逆伝搬(backward propagation)"
   ]
  },
  {
   "cell_type": "markdown",
   "metadata": {},
   "source": [
    "数値微分は遅いので，それに置き換える計算法として，誤差逆伝搬法を用いる．これは，一度順伝搬計算をおこない，ノードごとの数値を記録しておいて，それらの総和として得られる値の微小変化を逆向きに伝搬させていってそれぞれのパラメータの偏微分を求めるということなのかな．\n",
    "\n",
    "正解．\n",
    "\n",
    "りんごオレンジを微分したらどうなるかを実験するといい！！\n"
   ]
  },
  {
   "cell_type": "markdown",
   "metadata": {},
   "source": [
    "## 計算グラフ\n",
    "\n",
    "図のようなりんごと消費税という単純なモデルを考える．\n",
    "\n",
    "![calculation graph](DeepLearning/DeepLearning.004.jpeg)\n",
    "\n",
    "$$\n",
    "(100 \\times 2) \\times 1.1 = 220 \n",
    "$$\n",
    "になるんですが，それをMulLayerで作ると．．．"
   ]
  },
  {
   "cell_type": "code",
   "execution_count": 24,
   "metadata": {
    "collapsed": true
   },
   "outputs": [],
   "source": [
    "class MulLayer:\n",
    "    def __init__(self):\n",
    "        self.x = None\n",
    "        self.y = None\n",
    "\n",
    "    def forward(self, x, y):\n",
    "        self.x = x\n",
    "        self.y = y     \n",
    "        out = x * y\n",
    "\n",
    "        return out\n",
    "\n",
    "    def backward(self, dout):\n",
    "        dx = dout * self.y\n",
    "        dy = dout * self.x\n",
    "\n",
    "        return dx, dy\n",
    "\n"
   ]
  },
  {
   "cell_type": "code",
   "execution_count": 25,
   "metadata": {},
   "outputs": [
    {
     "name": "stdout",
     "output_type": "stream",
     "text": [
      "220.00000000000003\n"
     ]
    }
   ],
   "source": [
    "apple = 100\n",
    "apple_num = 2\n",
    "tax = 1.1\n",
    "\n",
    "mul_apple_layer = MulLayer()\n",
    "mul_tax_layer = MulLayer()\n",
    "\n",
    "# forward\n",
    "apple_price = mul_apple_layer.forward(apple, apple_num)\n",
    "price = mul_tax_layer.forward(apple_price, tax)\n",
    "\n",
    "print(price)"
   ]
  },
  {
   "cell_type": "markdown",
   "metadata": {},
   "source": [
    "## 数値微分の結果\n",
    "\n",
    "数値微分を考えましょう．\n",
    "\n",
    "||りんごの個数|りんごの値段|消費税|合計|偏微分\n",
    "|:----|----:|----:|----:|----:|----:\n",
    "|最初|2 | 100 | 1.1 |220|\n",
    "|りんごの個数が変わる|2+1| | | 330|110\n",
    "|りんごの値段が変わる||110| | 242 |2.2\n",
    "|消費税が変わる|| |1.2 | 240|200\n"
   ]
  },
  {
   "cell_type": "code",
   "execution_count": 26,
   "metadata": {},
   "outputs": [
    {
     "name": "stdout",
     "output_type": "stream",
     "text": [
      "0 = 1\n",
      "330.0\n",
      "109.99999999999997\n",
      "1 = 10\n",
      "242.00000000000003\n",
      "2.2\n",
      "2 = 0.1\n",
      "240.00000000000003\n",
      "199.99999999999983\n"
     ]
    }
   ],
   "source": [
    "data = [2, 100, 1.1]\n",
    "apple_num, apple, tax = data\n",
    "# forward\n",
    "apple_price = mul_apple_layer.forward(apple, apple_num)\n",
    "price0 = mul_tax_layer.forward(apple_price, tax)\n",
    "\n",
    "for i,x in enumerate([1, 10, 0.1]):\n",
    "    d_data = [2, 100, 1.1]\n",
    "    print(\"{0} = {1}\".format(i,x))\n",
    "    d_data[i] = d_data[i] + x\n",
    "    apple_num, apple, tax = d_data\n",
    "    # forward\n",
    "    apple_price = mul_apple_layer.forward(apple, apple_num)\n",
    "    price = mul_tax_layer.forward(apple_price, tax)\n",
    "\n",
    "    print(price)\n",
    "    print((price0-price)/(data[i]-d_data[i]))\n"
   ]
  },
  {
   "cell_type": "markdown",
   "metadata": {},
   "source": [
    "## 逆伝搬による偏微分値\n",
    "\n",
    "これをbackwardで解いてみる．"
   ]
  },
  {
   "cell_type": "code",
   "execution_count": 29,
   "metadata": {},
   "outputs": [
    {
     "name": "stdout",
     "output_type": "stream",
     "text": [
      "1.2000000000000002 200\n",
      "2.4000000000000004 120.00000000000001 200\n"
     ]
    }
   ],
   "source": [
    "# backward\n",
    "dprice = 1\n",
    "dapple_price, dtax = mul_tax_layer.backward(dprice)\n",
    "\n",
    "print(dapple_price, dtax)\n",
    "\n",
    "dapple, dapple_num = mul_apple_layer.backward(dapple_price)\n",
    "print(dapple, dapple_num, dtax)\n"
   ]
  },
  {
   "cell_type": "markdown",
   "metadata": {},
   "source": [
    "数式にすると\n",
    "$$\n",
    "\\begin{aligned}\n",
    "\\frac{\\partial f}{\\partial AppleNum}=110 \\\\\n",
    "\\frac{\\partial f}{\\partial Apple}=2.2 \\\\\n",
    "\\frac{\\partial f}{\\partial Tax}=200 \n",
    "\\end{aligned}\n",
    "$$"
   ]
  },
  {
   "cell_type": "markdown",
   "metadata": {},
   "source": [
    "dpriceを変えたときは，割っておくことを忘れずに．"
   ]
  },
  {
   "cell_type": "code",
   "execution_count": 32,
   "metadata": {},
   "outputs": [
    {
     "name": "stdout",
     "output_type": "stream",
     "text": [
      "2.4000000000000004 400\n",
      "1.2000000000000002 200.0\n",
      "4.800000000000001 240.00000000000003 400\n",
      "2.4000000000000004 120.00000000000001 200.0\n"
     ]
    }
   ],
   "source": [
    "# backward\n",
    "dprice = 2\n",
    "dapple_price, dtax = mul_tax_layer.backward(dprice)\n",
    "\n",
    "print(dapple_price, dtax)\n",
    "print(dapple_price/dprice, dtax/dprice)\n",
    "\n",
    "\n",
    "dapple, dapple_num = mul_apple_layer.backward(dapple_price)\n",
    "print(dapple, dapple_num, dtax)\n",
    "print(dapple/dprice, dapple_num/dprice, dtax/dprice)\n",
    "\n",
    "\n"
   ]
  },
  {
   "cell_type": "code",
   "execution_count": 35,
   "metadata": {},
   "outputs": [
    {
     "name": "stdout",
     "output_type": "stream",
     "text": [
      "0 = 4\n",
      "440.00000000000006\n",
      "110.00000000000001\n",
      "1 = 200\n",
      "440.00000000000006\n",
      "2.2\n",
      "2 = 2.2\n",
      "440.00000000000006\n",
      "200.0\n"
     ]
    }
   ],
   "source": [
    "data = [2, 100, 1.1]\n",
    "apple_num, apple, tax = data\n",
    "# forward\n",
    "apple_price = mul_apple_layer.forward(apple, apple_num)\n",
    "price0 = mul_tax_layer.forward(apple_price, tax)\n",
    "\n",
    "for i,x in enumerate([1, 10, 0.1]):\n",
    "    d_data = [2, 100, 1.1]\n",
    "    d_data[i] = d_data[i] * 2\n",
    "    print(\"{0} = {1}\".format(i,d_data[i]))\n",
    "    apple_num, apple, tax = d_data\n",
    "    # forward\n",
    "    apple_price = mul_apple_layer.forward(apple, apple_num)\n",
    "    price = mul_tax_layer.forward(apple_price, tax)\n",
    "\n",
    "    print(price)\n",
    "    print((price0-price)/(data[i]-d_data[i]))\n",
    "\n"
   ]
  },
  {
   "cell_type": "markdown",
   "metadata": {},
   "source": [
    "さらに変な数値微分を考えましょう．\n",
    "\n",
    "影響を2倍にしても偏微分の値は同じなんですよ．\n",
    "\n",
    "||りんごの個数|りんごの値段|消費税|合計|偏微分\n",
    "|:----|----:|----:|----:|----:|----:\n",
    "|最初|2 | 100 | 1.1 |220|\n",
    "|りんごの個数が変わる|2 x 2| | | 440|110\n",
    "|りんごの値段が変わる||100 x 2| | 440 |2.2\n",
    "|りんごの個数が変わる|| |1.1 x 2 | 440|200\n",
    "\n",
    "つまり，線形の依存性しかない関数の偏微分は，微少量でなくてどんなんとってもいいということ．こいつはすごいな．"
   ]
  },
  {
   "cell_type": "markdown",
   "metadata": {},
   "source": [
    "## りんごとオレンジの合わせ技\n"
   ]
  },
  {
   "cell_type": "code",
   "execution_count": 11,
   "metadata": {
    "collapsed": true
   },
   "outputs": [],
   "source": [
    "class AddLayer:\n",
    "    def __init__(self):\n",
    "        pass\n",
    "    \n",
    "    def forward(self, x, y):\n",
    "        out = x + y\n",
    "        return out\n",
    "    \n",
    "    \n",
    "    def backward(self, dout):\n",
    "        dx = dout * 1\n",
    "        dy = dout * 1\n",
    "        return dx, dy\n",
    "    "
   ]
  },
  {
   "cell_type": "code",
   "execution_count": 12,
   "metadata": {
    "collapsed": true
   },
   "outputs": [],
   "source": [
    "apple = 100\n",
    "apple_num = 2\n",
    "orange = 150\n",
    "orange_num = 3\n",
    "tax = 1.1\n",
    "\n",
    "# layer\n",
    "mul_apple_layer = MulLayer()\n",
    "mul_orange_layer = MulLayer()\n",
    "add_apple_orange_layer = AddLayer()\n",
    "mul_tax_layer = MulLayer()\n",
    "\n",
    "# forward\n",
    "apple_price = mul_apple_layer.forward(apple, apple_num)\n",
    "orange_price = mul_orange_layer.forward(orange, orange_num)\n",
    "all_price = add_apple_orange_layer.forward(apple_price, orange_price)\n",
    "price = mul_tax_layer.forward(all_price, tax)"
   ]
  },
  {
   "cell_type": "code",
   "execution_count": 13,
   "metadata": {},
   "outputs": [
    {
     "name": "stdout",
     "output_type": "stream",
     "text": [
      "200\n",
      "450\n",
      "650\n",
      "715.0000000000001\n"
     ]
    }
   ],
   "source": [
    "print(apple_price)\n",
    "print(orange_price)\n",
    "print(all_price)\n",
    "print(price)"
   ]
  },
  {
   "cell_type": "code",
   "execution_count": 14,
   "metadata": {
    "collapsed": true
   },
   "outputs": [],
   "source": [
    "# backward\n",
    "dprice = 1\n",
    "dall_price, dtax = mul_tax_layer.backward(dprice)\n",
    "dapple_price, dorange_price = add_apple_orange_layer.backward(dall_price)"
   ]
  },
  {
   "cell_type": "code",
   "execution_count": 15,
   "metadata": {},
   "outputs": [
    {
     "name": "stdout",
     "output_type": "stream",
     "text": [
      "1.1\n",
      "650\n",
      "1.1\n",
      "1.1\n"
     ]
    }
   ],
   "source": [
    "print(dall_price)\n",
    "print(dtax)\n",
    "print(dapple_price)\n",
    "print(dorange_price)"
   ]
  },
  {
   "cell_type": "code",
   "execution_count": 16,
   "metadata": {},
   "outputs": [
    {
     "name": "stdout",
     "output_type": "stream",
     "text": [
      "3.3000000000000003\n",
      "165.0\n",
      "2.2\n",
      "110.00000000000001\n"
     ]
    }
   ],
   "source": [
    "dorange, dorange_num = mul_orange_layer.backward(dorange_price)\n",
    "dapple, dapple_num = mul_apple_layer.backward(dapple_price)\n",
    "\n",
    "print(dorange)\n",
    "print(dorange_num)\n",
    "print(dapple)\n",
    "print(dapple_num)\n"
   ]
  },
  {
   "cell_type": "code",
   "execution_count": 19,
   "metadata": {},
   "outputs": [
    {
     "name": "stdout",
     "output_type": "stream",
     "text": [
      "715.0000000000001\n",
      "     apple: 737.00 2.20\n",
      " apple_num: 737.00 110.00\n",
      "    orange: 764.50 3.30\n",
      "orange_num: 764.50 165.00\n",
      "       tax: 786.50 650.00\n"
     ]
    }
   ],
   "source": [
    "data = [100,2,150,3,1.1]\n",
    "apple, apple_num, orange, orange_num, tax = data\n",
    "\n",
    "# layer\n",
    "mul_apple_layer = MulLayer()\n",
    "mul_orange_layer = MulLayer()\n",
    "add_apple_orange_layer = AddLayer()\n",
    "mul_tax_layer = MulLayer()\n",
    "\n",
    "# forward\n",
    "apple_price = mul_apple_layer.forward(apple, apple_num)\n",
    "orange_price = mul_orange_layer.forward(orange, orange_num)\n",
    "all_price = add_apple_orange_layer.forward(apple_price, orange_price)\n",
    "price0= mul_tax_layer.forward(all_price, tax)\n",
    "print(price0)\n",
    "\n",
    "data_name =['apple', 'apple_num', 'orange', 'orange_num', 'tax']\n",
    "\n",
    "for i in [0,1,2,3,4]:\n",
    "    d_data = [100,2,150,3,1.1]\n",
    "    d_data[i] = data[i]*1.1 \n",
    "    apple, apple_num, orange, orange_num, tax = d_data\n",
    "    # forward\n",
    "    apple_price = mul_apple_layer.forward(apple, apple_num)\n",
    "    orange_price = mul_orange_layer.forward(orange, orange_num)\n",
    "    all_price = add_apple_orange_layer.forward(apple_price, \n",
    "                                               orange_price)\n",
    "    price= mul_tax_layer.forward(all_price, tax)\n",
    "    print('%10s: %4.2f %4.2f' % (data_name[i], price, (price0-price)/(data[i]-d_data[i])))"
   ]
  },
  {
   "cell_type": "markdown",
   "metadata": {},
   "source": [
    "# 活性化関数レイヤ"
   ]
  },
  {
   "cell_type": "markdown",
   "metadata": {},
   "source": [
    "# affine/softmaxレイヤ"
   ]
  },
  {
   "cell_type": "markdown",
   "metadata": {},
   "source": [
    "# 誤差逆伝搬法による学習"
   ]
  },
  {
   "cell_type": "code",
   "execution_count": 1,
   "metadata": {},
   "outputs": [
    {
     "name": "stdout",
     "output_type": "stream",
     "text": [
      "0.152083333333 0.1523\n",
      "0.9046 0.9079\n",
      "0.923883333333 0.9269\n",
      "0.936916666667 0.9378\n",
      "0.943966666667 0.9445\n",
      "0.95175 0.9495\n",
      "0.955 0.9516\n",
      "0.961766666667 0.9571\n",
      "0.964366666667 0.9578\n",
      "0.967233333333 0.9615\n",
      "0.970033333333 0.9642\n",
      "0.971033333333 0.9648\n",
      "0.973766666667 0.967\n",
      "0.975166666667 0.968\n",
      "0.977183333333 0.9688\n",
      "0.978466666667 0.9686\n",
      "0.979883333333 0.9707\n"
     ]
    }
   ],
   "source": [
    "# coding: utf-8\n",
    "import sys, os\n",
    "sys.path.append(os.pardir)\n",
    "\n",
    "import numpy as np\n",
    "from dataset.mnist import load_mnist\n",
    "from ch05.two_layer_net import TwoLayerNet\n",
    "\n",
    "# データの読み込み\n",
    "(x_train, t_train), (x_test, t_test) = load_mnist(normalize=True, one_hot_label=True)\n",
    "\n",
    "network = TwoLayerNet(input_size=784, hidden_size=50, output_size=10)\n",
    "\n",
    "iters_num = 10000\n",
    "train_size = x_train.shape[0]\n",
    "batch_size = 100\n",
    "learning_rate = 0.1\n",
    "\n",
    "train_loss_list = []\n",
    "train_acc_list = []\n",
    "test_acc_list = []\n",
    "\n",
    "iter_per_epoch = max(train_size / batch_size, 1)\n",
    "\n",
    "for i in range(iters_num):\n",
    "    batch_mask = np.random.choice(train_size, batch_size)\n",
    "    x_batch = x_train[batch_mask]\n",
    "    t_batch = t_train[batch_mask]\n",
    "    \n",
    "    # 勾配\n",
    "    #grad = network.numerical_gradient(x_batch, t_batch)\n",
    "    grad = network.gradient(x_batch, t_batch)\n",
    "    \n",
    "    # 更新\n",
    "    for key in ('W1', 'b1', 'W2', 'b2'):\n",
    "        network.params[key] -= learning_rate * grad[key]\n",
    "    \n",
    "    loss = network.loss(x_batch, t_batch)\n",
    "    train_loss_list.append(loss)\n",
    "    \n",
    "    if i % iter_per_epoch == 0:\n",
    "        train_acc = network.accuracy(x_train, t_train)\n",
    "        test_acc = network.accuracy(x_test, t_test)\n",
    "        train_acc_list.append(train_acc)\n",
    "        test_acc_list.append(test_acc)\n",
    "        print(train_acc, test_acc)"
   ]
  },
  {
   "cell_type": "code",
   "execution_count": null,
   "metadata": {
    "collapsed": true
   },
   "outputs": [],
   "source": []
  }
 ],
 "metadata": {
  "kernelspec": {
   "display_name": "Python 3",
   "language": "python",
   "name": "python3"
  },
  "language_info": {
   "codemirror_mode": {
    "name": "ipython",
    "version": 3
   },
   "file_extension": ".py",
   "mimetype": "text/x-python",
   "name": "python",
   "nbconvert_exporter": "python",
   "pygments_lexer": "ipython3",
   "version": "3.6.1"
  },
  "latex_envs": {
   "LaTeX_envs_menu_present": true,
   "autocomplete": true,
   "bibliofile": "biblio.bib",
   "cite_by": "apalike",
   "current_citInitial": 1,
   "eqLabelWithNumbers": true,
   "eqNumInitial": 1,
   "hotkeys": {
    "equation": "Ctrl-E",
    "itemize": "Ctrl-I"
   },
   "labels_anchors": false,
   "latex_user_defs": false,
   "report_style_numbering": false,
   "user_envs_cfg": false
  },
  "toc": {
   "colors": {
    "hover_highlight": "#DAA520",
    "navigate_num": "#000000",
    "navigate_text": "#333333",
    "running_highlight": "#FF0000",
    "selected_highlight": "#FFD700",
    "sidebar_border": "#EEEEEE",
    "wrapper_background": "#FFFFFF"
   },
   "moveMenuLeft": true,
   "nav_menu": {
    "height": "48px",
    "width": "252px"
   },
   "navigate_menu": true,
   "number_sections": true,
   "sideBar": true,
   "threshold": 4,
   "toc_cell": true,
   "toc_section_display": "block",
   "toc_window_display": false,
   "widenNotebook": false
  }
 },
 "nbformat": 4,
 "nbformat_minor": 2
}
